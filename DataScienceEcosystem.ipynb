{
 "cells": [
  {
   "cell_type": "markdown",
   "id": "fa2a7106-3770-416f-ad23-963b71559dac",
   "metadata": {},
   "source": [
    "# Data Science Tools and Ecosystem"
   ]
  },
  {
   "cell_type": "markdown",
   "id": "4f07f5f4-f67f-4ab0-be51-6d73bcbcd273",
   "metadata": {
    "tags": []
   },
   "source": [
    "### In this notebook, Data Science Tools and Ecosystems are summarized. "
   ]
  },
  {
   "cell_type": "markdown",
   "id": "72590563-a3ae-4584-a6fe-01aab9b84ab1",
   "metadata": {},
   "source": [
    "#### **Objectives**\n",
    "- Listed popular languages for Data Science\n",
    "- Listed commonly used libraries for data science\n",
    "- Created a table of open-source environments for development\n",
    "- Used Markdown cells\n",
    "- Wrote an expression and solved it using a code cell"
   ]
  },
  {
   "cell_type": "markdown",
   "id": "8a65c9be-cb3a-4b66-8a15-5d716b4a5023",
   "metadata": {},
   "source": [
    "#### Some of the popular languages that Data Scientists use are:\n",
    "1. Python\n",
    "2. R\n",
    "3. SQL"
   ]
  },
  {
   "cell_type": "markdown",
   "id": "75d52f70-6410-4fe2-9d56-2c38593cf839",
   "metadata": {},
   "source": [
    "#### Some of the commonly used libraries used by Data Scientists include:\n",
    "1. Pandas\n",
    "2. NumPy\n",
    "3. Matplotlib"
   ]
  },
  {
   "cell_type": "markdown",
   "id": "8c39ecf0-485c-4b81-84f3-21c12bda003a",
   "metadata": {},
   "source": [
    "|Data Science Tools|\n",
    "|------------------|\n",
    "|Jupyter|\n",
    "|RStudio|\n",
    "|Apache Zeppelin|"
   ]
  },
  {
   "cell_type": "markdown",
   "id": "27bb1af1-b103-4f0f-8336-0924d7a85e6f",
   "metadata": {
    "tags": []
   },
   "source": [
    "### Below are a few examples of evaluating arithmetic expressions in Python"
   ]
  },
  {
   "cell_type": "code",
   "execution_count": 4,
   "id": "d8d9b394-fda4-4785-81c3-5e6370da5113",
   "metadata": {
    "tags": []
   },
   "outputs": [
    {
     "data": {
      "text/plain": [
       "17"
      ]
     },
     "execution_count": 4,
     "metadata": {},
     "output_type": "execute_result"
    }
   ],
   "source": [
    "# This a simple arithmetic expression to mutiply then add integers\n",
    "(3*4)+5"
   ]
  },
  {
   "cell_type": "code",
   "execution_count": 5,
   "id": "7093d1c1-b460-4a5f-9091-4a718e8b69a9",
   "metadata": {
    "tags": []
   },
   "outputs": [
    {
     "data": {
      "text/plain": [
       "3.3333333333333335"
      ]
     },
     "execution_count": 5,
     "metadata": {},
     "output_type": "execute_result"
    }
   ],
   "source": [
    "# This will convert 200 minutes to hours by diving by 60\n",
    "200/60"
   ]
  },
  {
   "cell_type": "markdown",
   "id": "bd669e09-8f25-4198-9ea2-008f4c81ef33",
   "metadata": {},
   "source": [
    "## Author\n",
    "Anthony Hall"
   ]
  }
 ],
 "metadata": {
  "kernelspec": {
   "display_name": "Python",
   "language": "python",
   "name": "conda-env-python-py"
  },
  "language_info": {
   "codemirror_mode": {
    "name": "ipython",
    "version": 3
   },
   "file_extension": ".py",
   "mimetype": "text/x-python",
   "name": "python",
   "nbconvert_exporter": "python",
   "pygments_lexer": "ipython3",
   "version": "3.7.12"
  }
 },
 "nbformat": 4,
 "nbformat_minor": 5
}
